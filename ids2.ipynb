{
 "cells": [
  {
   "cell_type": "code",
   "execution_count": null,
   "id": "0e3fb8dc",
   "metadata": {
    "scrolled": true
   },
   "outputs": [],
   "source": [
    "import numpy as np\n",
    "import pandas as pd\n",
    "import seaborn as sns\n",
    "import matplotlib.pyplot as plt\n",
    "from pandas.api.types import is_numeric_dtype\n",
    "import warnings\n",
    "from sklearn.model_selection import train_test_split\n",
    "from sklearn.neighbors import KNeighborsClassifier\n",
    "from sklearn import tree\n",
    "from sklearn.tree import DecisionTreeClassifier\n",
    "from sklearn.ensemble import RandomForestClassifier\n",
    "from sklearn.preprocessing import LabelEncoder, StandardScaler\n",
    "import optuna\n",
    "from tabulate import tabulate\n",
    "from sklearn.feature_selection import RFE\n",
    "import itertools\n",
    "from sklearn.preprocessing import RobustScaler\n",
    "from sklearn.decomposition import PCA\n",
    "from sklearn import svm\n",
    "from sklearn import metrics\n",
    "pd.set_option('display.max_columns',None)\n",
    " "
   ]
  },
  {
   "cell_type": "code",
   "execution_count": null,
   "id": "c2bfa176",
   "metadata": {},
   "outputs": [],
   "source": [
    "# train=pd.read_csv('Train_data.csv')\n",
    "data_train=pd.read_csv('KDDTest-21.txt')"
   ]
  },
  {
   "cell_type": "code",
   "execution_count": null,
   "id": "64cf4c7e",
   "metadata": {},
   "outputs": [],
   "source": [
    "columns = (['duration','protocol_type','service','flag','src_bytes','dst_bytes','land','wrong_fragment','urgent','hot'\n",
    ",'num_failed_logins','logged_in','num_compromised','root_shell','su_attempted','num_root','num_file_creations'\n",
    ",'num_shells','num_access_files','num_outbound_cmds','is_host_login','is_guest_login','count','srv_count','serror_rate'\n",
    ",'srv_serror_rate','rerror_rate','srv_rerror_rate','same_srv_rate','diff_srv_rate','srv_diff_host_rate','dst_host_count','dst_host_srv_count'\n",
    ",'dst_host_same_srv_rate','dst_host_diff_srv_rate','dst_host_same_src_port_rate','dst_host_srv_diff_host_rate','dst_host_serror_rate'\n",
    ",'dst_host_srv_serror_rate','dst_host_rerror_rate','dst_host_srv_rerror_rate','outcome','level'])"
   ]
  },
  {
   "cell_type": "code",
   "execution_count": null,
   "id": "04651b6c",
   "metadata": {},
   "outputs": [],
   "source": [
    "data_train.columns = columns"
   ]
  },
  {
   "cell_type": "code",
   "execution_count": null,
   "id": "147ebda3",
   "metadata": {},
   "outputs": [],
   "source": [
    "data_train.info()"
   ]
  },
  {
   "cell_type": "code",
   "execution_count": null,
   "id": "dc7cf21a",
   "metadata": {},
   "outputs": [],
   "source": [
    "data_train.loc[data_train['outcome'] == \"normal\", \"outcome\"] = 'normal'\n",
    "data_train.loc[data_train['outcome'] != 'normal', \"outcome\"] = 'attack'"
   ]
  },
  {
   "cell_type": "code",
   "execution_count": null,
   "id": "3af56fd5",
   "metadata": {},
   "outputs": [],
   "source": [
    "def Scaling(df_num, cols):\n",
    "    std_scaler = RobustScaler()\n",
    "    std_scaler_temp = std_scaler.fit_transform(df_num)\n",
    "    std_df = pd.DataFrame(std_scaler_temp, columns =cols)\n",
    "    return std_df"
   ]
  },
  {
   "cell_type": "code",
   "execution_count": null,
   "id": "41c6a31d",
   "metadata": {},
   "outputs": [],
   "source": [
    "cat_cols = ['is_host_login','protocol_type','service','flag','land', 'logged_in','is_guest_login', 'level', 'outcome']\n",
    "def preprocess(dataframe):\n",
    "    df_num = dataframe.drop(cat_cols, axis=1)\n",
    "    num_cols = df_num.columns\n",
    "    scaled_df = Scaling(df_num, num_cols)\n",
    "    \n",
    "    dataframe.drop(labels=num_cols, axis=\"columns\", inplace=True)\n",
    "    dataframe[num_cols] = scaled_df[num_cols]\n",
    "    \n",
    "    dataframe.loc[dataframe['outcome'] == \"normal\", \"outcome\"] = 0\n",
    "    dataframe.loc[dataframe['outcome'] != 0, \"outcome\"] = 1\n",
    "    \n",
    "    dataframe = pd.get_dummies(dataframe, columns = ['protocol_type', 'service', 'flag'])\n",
    "    return dataframe"
   ]
  },
  {
   "cell_type": "code",
   "execution_count": null,
   "id": "645d3478",
   "metadata": {},
   "outputs": [],
   "source": [
    "scaled_train = preprocess(data_train)"
   ]
  },
  {
   "cell_type": "code",
   "execution_count": null,
   "id": "5c64ede5",
   "metadata": {},
   "outputs": [],
   "source": [
    "x = scaled_train.drop(['outcome', 'level'] , axis = 1).values\n",
    "y = scaled_train['outcome'].values\n",
    "y_reg = scaled_train['level'].values\n",
    "\n",
    "pca = PCA(n_components=20)\n",
    "pca = pca.fit(x)\n",
    "x_reduced = pca.transform(x)\n",
    "print(\"Number of original features is {} and of reduced features is {}\".format(x.shape[1], x_reduced.shape[1]))\n",
    "\n",
    "y = y.astype('int')\n",
    "x_train, x_test, y_train, y_test = train_test_split(x, y, test_size=0.2, random_state=42)\n",
    "x_train_reduced, x_test_reduced, y_train_reduced, y_test_reduced = train_test_split(x_reduced, y, test_size=0.2, random_state=42)\n",
    "x_train_reg, x_test_reg, y_train_reg, y_test_reg = train_test_split(x, y_reg, test_size=0.2, random_state=42)"
   ]
  },
  {
   "cell_type": "code",
   "execution_count": null,
   "id": "f4624e6a",
   "metadata": {},
   "outputs": [],
   "source": [
    "kernal_evals = dict()\n",
    "def evaluate_classification(model, name, X_train, X_test, y_train, y_test):\n",
    "    train_accuracy = metrics.accuracy_score(y_train, model.predict(X_train))\n",
    "    test_accuracy = metrics.accuracy_score(y_test, model.predict(X_test))\n",
    "    \n",
    "    train_precision = metrics.precision_score(y_train, model.predict(X_train))\n",
    "    test_precision = metrics.precision_score(y_test, model.predict(X_test))\n",
    "    train_recall = metrics.recall_score(y_train, model.predict(X_train))\n",
    "    test_recall = metrics.recall_score(y_test, model.predict(X_test))\n",
    "    \n",
    "    train_f1 = metrics.f1_score(y_train, model.predict(X_train))\n",
    "    test_f1 = metrics.f1_score(y_test, model.predict(X_test))\n",
    "    kernal_evals[str(name)] = [train_accuracy, test_accuracy, train_precision, test_precision, train_recall, test_recall, train_f1, test_f1]\n",
    "    print(\"Training Accuracy \" + str(name) + \" {}  Test Accuracy \".format(train_accuracy*100) + str(name) + \" {}\".format(test_accuracy*100))\n",
    "    print(\"Training Precesion \" + str(name) + \" {}  Test Precesion \".format(train_precision*100) + str(name) + \" {}\".format(test_precision*100))\n",
    "    print(\"Training Recall \" + str(name) + \" {}  Test Recall \".format(train_recall*100) + str(name) + \" {}\".format(test_recall*100))\n",
    "    print(\"Training F1 Score \" + str(name) + \" {}  Test F1 Score \".format(train_f1*100) + str(name) + \" {}\".format(test_f1*100))\n",
    "    actual = y_test\n",
    "    predicted = model.predict(X_test)\n",
    "    confusion_matrix = metrics.confusion_matrix(actual, predicted)\n",
    "    cm_display = metrics.ConfusionMatrixDisplay(confusion_matrix = confusion_matrix, display_labels = ['normal', 'attack'])\n",
    "\n",
    "    fig, ax = plt.subplots(figsize=(10,10))\n",
    "    ax.grid(False)\n",
    "    cm_display.plot(ax=ax)\n",
    "#     ax.set_title(f'Confusion Matrix for {name}')\n",
    "    plt.show()\n",
    "    "
   ]
  },
  {
   "cell_type": "code",
   "execution_count": null,
   "id": "a53309da",
   "metadata": {},
   "outputs": [],
   "source": [
    "knn = KNeighborsClassifier().fit(x_train, y_train)\n",
    "evaluate_classification(knn, \"K Neighbors Classifier\", x_train, x_test, y_train, y_test)"
   ]
  },
  {
   "cell_type": "code",
   "execution_count": null,
   "id": "696762af",
   "metadata": {},
   "outputs": [],
   "source": [
    "dt = DecisionTreeClassifier(max_depth=3).fit(x_train, y_train)\n",
    "tdt = DecisionTreeClassifier().fit(x_train, y_train)\n",
    "evaluate_classification(tdt, \"DecisionTreeClassifier\", x_train, x_test, y_train, y_test)\n",
    "\n"
   ]
  },
  {
   "cell_type": "code",
   "execution_count": null,
   "id": "448d7623",
   "metadata": {},
   "outputs": [],
   "source": [
    "rf = RandomForestClassifier().fit(x_train, y_train)\n",
    "evaluate_classification(rf, \"RandomForestClassifier\", x_train, x_test, y_train, y_test)"
   ]
  },
  {
   "cell_type": "markdown",
   "id": "e7e503fc",
   "metadata": {},
   "source": [
    "# KNN"
   ]
  },
  {
   "cell_type": "code",
   "execution_count": null,
   "id": "dee06720",
   "metadata": {},
   "outputs": [],
   "source": [
    "def objective(trial):\n",
    "    n_neighbors = trial.suggest_int('KNN_n_neighbors', 2, 16, log=False)\n",
    "    classifier_obj = KNeighborsClassifier(n_neighbors=n_neighbors)\n",
    "    classifier_obj.fit(x_train, y_train)\n",
    "    accuracy = classifier_obj.score(x_test, y_test)\n",
    "    return accuracy"
   ]
  },
  {
   "cell_type": "code",
   "execution_count": null,
   "id": "fcb49734",
   "metadata": {},
   "outputs": [],
   "source": [
    "study_KNN = optuna.create_study(direction='maximize')\n",
    "study_KNN.optimize(objective, n_trials=1)\n",
    "print(study_KNN.best_trial)"
   ]
  },
  {
   "cell_type": "code",
   "execution_count": null,
   "id": "4913b84d",
   "metadata": {},
   "outputs": [],
   "source": [
    "KNN_model = KNeighborsClassifier(n_neighbors=study_KNN.best_trial.params['KNN_n_neighbors'])\n",
    "KNN_model.fit(x_train, y_train)\n",
    "\n",
    "\n",
    "distances, indices = KNN_model.kneighbors(x_train)\n",
    "\n",
    "\n",
    "distance_threshold = 2.0  \n",
    "\n",
    "anomaly_indices_knn = [i for i, dists in enumerate(distances) if max(dists) > distance_threshold]\n",
    "\n",
    "print(\"Anomaly indices:\", anomaly_indices_knn)\n",
    "\n",
    "KNN_train, KNN_test = KNN_model.score(x_train, y_train), KNN_model.score(x_test, y_test)\n",
    "\n",
    "print(f\"Train Score: {KNN_train}\")\n",
    "print(f\"Test Score: {KNN_test}\")"
   ]
  },
  {
   "cell_type": "code",
   "execution_count": null,
   "id": "0228bcbe",
   "metadata": {},
   "outputs": [],
   "source": [
    "import matplotlib.pyplot as plt\n",
    "\n",
    "plt.figure(figsize=(10, 6))\n",
    "plt.hist(distances.flatten(), bins=50, color='skyblue', edgecolor='black')\n",
    "plt.title('Distances to K Nearest Neighbors')\n",
    "plt.xlabel('Distance')\n",
    "plt.ylabel('Frequency')\n",
    "plt.axvline(x=distance_threshold, color='red', linestyle='--', label='Threshold')\n",
    "plt.legend()\n",
    "plt.show()\n",
    "\n"
   ]
  },
  {
   "cell_type": "markdown",
   "id": "b026eeb0",
   "metadata": {},
   "source": [
    "# Decision Tree Classifier"
   ]
  },
  {
   "cell_type": "code",
   "execution_count": null,
   "id": "8dffb90b",
   "metadata": {},
   "outputs": [],
   "source": [
    "def objective(trial):\n",
    "    dt_max_depth = trial.suggest_int('dt_max_depth', 2, 32, log=False)\n",
    "    dt_max_features = trial.suggest_int('dt_max_features', 2, 10, log=False)\n",
    "    classifier_obj = DecisionTreeClassifier(max_features = dt_max_features, max_depth = dt_max_depth)\n",
    "    classifier_obj.fit(x_train, y_train)\n",
    "    accuracy = classifier_obj.score(x_test, y_test)\n",
    "    return accuracy"
   ]
  },
  {
   "cell_type": "code",
   "execution_count": null,
   "id": "c947cdbb",
   "metadata": {},
   "outputs": [],
   "source": [
    "study_dt = optuna.create_study(direction='maximize')\n",
    "study_dt.optimize(objective, n_trials=30)\n",
    "print(study_dt.best_trial)"
   ]
  },
  {
   "cell_type": "code",
   "execution_count": null,
   "id": "c6cbeab6",
   "metadata": {},
   "outputs": [],
   "source": [
    "dt = DecisionTreeClassifier(max_features = study_dt.best_trial.params['dt_max_features'], max_depth = study_dt.best_trial.params['dt_max_depth'])\n",
    "dt.fit(x_train, y_train)\n",
    "\n",
    "train_predictions = dt.predict(x_train)\n",
    "\n",
    "\n",
    "leaf_indices = dt.apply(x_train)\n",
    "\n",
    "\n",
    "leaf_counts = pd.Series(leaf_indices).value_counts()\n",
    "\n",
    "threshold = 10\n",
    "\n",
    "anomaly_leaf_nodes = leaf_counts[leaf_counts < threshold].index\n",
    "\n",
    "\n",
    "anomaly_indices_dt = [i for i, node in enumerate(leaf_indices) if node in anomaly_leaf_nodes]\n",
    "\n",
    "print(\"Anomaly indices:\", anomaly_indices_dt)\n",
    "\n",
    "dt_train, dt_test = dt.score(x_train, y_train), dt.score(x_test, y_test)\n",
    "\n",
    "print(f\"Train Score: {dt_train}\")\n",
    "print(f\"Test Score: {dt_test}\")"
   ]
  },
  {
   "cell_type": "code",
   "execution_count": null,
   "id": "4602f74a",
   "metadata": {},
   "outputs": [],
   "source": [
    "import matplotlib.pyplot as plt\n",
    "\n",
    "\n",
    "plt.figure(figsize=(10, 6))\n",
    "plt.bar(leaf_counts.index, leaf_counts.values, color='skyblue', edgecolor='black')\n",
    "plt.title('Occurrences of Leaf Nodes')\n",
    "plt.xlabel('Leaf Node Index')\n",
    "plt.ylabel('Occurrences')\n",
    "plt.axhline(y=threshold, color='red', linestyle='--', label='Threshold')\n",
    "plt.legend()\n",
    "plt.show()\n"
   ]
  },
  {
   "cell_type": "code",
   "execution_count": null,
   "id": "f647ca88",
   "metadata": {},
   "outputs": [],
   "source": [
    "fig = plt.figure(figsize = (30,12))\n",
    "tree.plot_tree(dt, filled=True);\n",
    "plt.show()"
   ]
  },
  {
   "cell_type": "markdown",
   "id": "7cff7c43",
   "metadata": {},
   "source": [
    "# Random Forest "
   ]
  },
  {
   "cell_type": "code",
   "execution_count": null,
   "id": "39022d6e",
   "metadata": {},
   "outputs": [],
   "source": [
    "def objective(trial):\n",
    "    rf_max_depth = trial.suggest_int('rf_max_depth', 2, 32, log=False)\n",
    "    rf_max_features = trial.suggest_int('rf_max_features', 2, 10, log=False)\n",
    "    rf_n_estimators = trial.suggest_int('rf_n_estimators', 3, 20, log=False)\n",
    "    classifier_obj = RandomForestClassifier(max_features = rf_max_features, max_depth = rf_max_depth, n_estimators = rf_n_estimators)\n",
    "    classifier_obj.fit(x_train, y_train)\n",
    "    accuracy = classifier_obj.score(x_test, y_test)\n",
    "    return accuracy\n"
   ]
  },
  {
   "cell_type": "code",
   "execution_count": null,
   "id": "a678b2a8",
   "metadata": {},
   "outputs": [],
   "source": [
    "study_rf = optuna.create_study(direction='maximize')\n",
    "study_rf.optimize(objective, n_trials=30)\n",
    "print(study_rf.best_trial)"
   ]
  },
  {
   "cell_type": "code",
   "execution_count": null,
   "id": "f18a7f47",
   "metadata": {},
   "outputs": [],
   "source": [
    "rf = RandomForestClassifier(max_features = study_rf.best_trial.params['rf_max_features'], max_depth = study_rf.best_trial.params['rf_max_depth'], n_estimators = study_rf.best_trial.params['rf_n_estimators'])\n",
    "rf.fit(x_train, y_train)\n",
    "\n",
    "leaf_indices_rf = dt.apply(x_train)\n",
    "leaf_indices_rf_flat = leaf_indices_rf.flatten()\n",
    "\n",
    "leaf_counts_rf = pd.Series(leaf_indices_rf_flat).value_counts()\n",
    "\n",
    "threshold = 10\n",
    "\n",
    "anomaly_leaf_nodes_rf = leaf_counts_rf[leaf_counts_rf < threshold].index\n",
    "\n",
    "\n",
    "anomaly_indices_rf = [i for i, node in enumerate(leaf_indices_rf_flat) if node in anomaly_leaf_nodes_rf]\n",
    "\n",
    "\n",
    "print(\"Anomaly indices :\", anomaly_indices_rf)\n",
    "\n",
    "rf_train, rf_test = rf.score(x_train, y_train), rf.score(x_test, y_test)\n",
    "\n",
    "print(f\"Train Score: {rf_train}\")\n",
    "print(f\"Test Score: {rf_test}\")"
   ]
  },
  {
   "cell_type": "code",
   "execution_count": null,
   "id": "72939242",
   "metadata": {},
   "outputs": [],
   "source": [
    "import matplotlib.pyplot as plt\n",
    "plt.figure(figsize=(10, 6))\n",
    "plt.bar(leaf_counts_rf.index, leaf_counts_rf.values, color='skyblue', edgecolor='black')\n",
    "plt.title('Occurrences of Leaf Nodes for Random Forest')\n",
    "plt.xlabel('Leaf Node Index')\n",
    "plt.ylabel('Occurrences')\n",
    "plt.axhline(y=threshold, color='red', linestyle='--', label='Threshold')\n",
    "plt.legend()\n",
    "plt.show()\n"
   ]
  },
  {
   "cell_type": "markdown",
   "id": "0950164c",
   "metadata": {},
   "source": [
    "# Final Summary"
   ]
  },
  {
   "cell_type": "code",
   "execution_count": null,
   "id": "9a302624",
   "metadata": {},
   "outputs": [],
   "source": [
    "data = [[\"KNN\", KNN_train, KNN_test], \n",
    "        [\"Decision Tree\", dt_train, dt_test], \n",
    "        [\"Random Forest\", rf_train, rf_test], \n",
    "       ]\n",
    "\n",
    "col_names = [\"Model\", \"Train Accuracy\", \"Test Accuracy\",]\n",
    "print(tabulate(data, headers=col_names, tablefmt=\"fancy_grid\"))"
   ]
  }
 ],
 "metadata": {
  "kernelspec": {
   "display_name": "Python 3 (ipykernel)",
   "language": "python",
   "name": "python3"
  },
  "language_info": {
   "codemirror_mode": {
    "name": "ipython",
    "version": 3
   },
   "file_extension": ".py",
   "mimetype": "text/x-python",
   "name": "python",
   "nbconvert_exporter": "python",
   "pygments_lexer": "ipython3",
   "version": "3.9.13"
  }
 },
 "nbformat": 4,
 "nbformat_minor": 5
}
